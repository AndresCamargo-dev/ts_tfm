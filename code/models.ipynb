{
 "cells": [
  {
   "attachments": {},
   "cell_type": "markdown",
   "metadata": {},
   "source": [
    "# Global Setting"
   ]
  },
  {
   "cell_type": "code",
   "execution_count": 147,
   "metadata": {},
   "outputs": [],
   "source": [
    "import os\n",
    "import pandas as pd\n",
    "import numpy as np\n",
    "import matplotlib.pyplot as plt\n",
    "import seaborn as sns\n",
    "from datetime import datetime, timedelta\n",
    "import math\n",
    "from sklearn.metrics import mean_squared_error\n",
    "from sklearn.metrics import mean_absolute_percentage_error\n",
    "from statsmodels.tsa.stattools import acovf\n",
    "from sklearn.model_selection import TimeSeriesSplit\n",
    "from prophet import Prophet\n",
    "import itertools\n",
    "from prophet.diagnostics import cross_validation, performance_metrics\n",
    "from prophet.plot import plot_plotly\n",
    "import xgboost as xgb\n",
    "import warnings\n",
    "%matplotlib inline\n",
    "warnings.filterwarnings(\"ignore\")"
   ]
  },
  {
   "attachments": {},
   "cell_type": "markdown",
   "metadata": {},
   "source": [
    "##### Load data"
   ]
  },
  {
   "cell_type": "code",
   "execution_count": 140,
   "metadata": {},
   "outputs": [],
   "source": [
    "sales = pd.read_csv('../data/sales_products_ts.csv')\n",
    "products_info = pd.read_csv(\"../data/products_statistics.csv\")"
   ]
  },
  {
   "attachments": {},
   "cell_type": "markdown",
   "metadata": {},
   "source": [
    "Define error functions"
   ]
  },
  {
   "cell_type": "code",
   "execution_count": 5,
   "metadata": {},
   "outputs": [],
   "source": [
    "def rmse(y_true, y_pred):\n",
    "    return np.sqrt(mean_squared_error(y_true, y_pred))\n",
    "\n",
    "def mape(y_true, y_pred):\n",
    "    return mean_absolute_percentage_error(y_true, y_pred)\n",
    "\n",
    "def wape(y_true, y_pred):\n",
    "    acovf_vals = acovf(y_true, unbiased=False)\n",
    "    return np.sum(np.abs(y_true - y_pred) / acovf_vals) * 100\n"
   ]
  },
  {
   "attachments": {},
   "cell_type": "markdown",
   "metadata": {},
   "source": [
    "Define metrics dataframe"
   ]
  },
  {
   "cell_type": "code",
   "execution_count": 6,
   "metadata": {},
   "outputs": [],
   "source": [
    "metrics = pd.DataFrame(columns=['id','model','rmse', 'mape', 'mase'])"
   ]
  },
  {
   "attachments": {},
   "cell_type": "markdown",
   "metadata": {},
   "source": [
    "Replace outliers function"
   ]
  },
  {
   "cell_type": "code",
   "execution_count": 41,
   "metadata": {},
   "outputs": [],
   "source": [
    "def replace_outliers(df):\n",
    "    q3 = np.quantile(df['quantity'], 0.75)\n",
    "    q1 = np.quantile(df['quantity'], 0.25)\n",
    "    iqr = np.subtract(*np.percentile(df['quantity'], [75, 25], interpolation='linear', axis=0))\n",
    "    max_limit = q3 + (1.5 * iqr)\n",
    "    min_limit = q1 - (1.5 * iqr)\n",
    "    df.loc[df['quantity'] > max_limit, 'quantity'] = max_limit\n",
    "    df.loc[df['quantity'] < min_limit, 'quantity'] = min_limit\n",
    "\n",
    "    return df\n"
   ]
  },
  {
   "attachments": {},
   "cell_type": "markdown",
   "metadata": {},
   "source": [
    "Preprocessing data"
   ]
  },
  {
   "cell_type": "code",
   "execution_count": 90,
   "metadata": {},
   "outputs": [],
   "source": [
    "def preprocessing(df):\n",
    "    id_list = sales['id'].unique()\n",
    "    df['date'] = pd.to_datetime(df.date)\n",
    "    df = df.sort_values('date')\n",
    "    df['log'] = np.log(df.quantity)\n",
    "    df = df[['id','date', 'quantity', 'log']]\n",
    "    df =  replace_outliers(df)\n",
    "    return df, id_list"
   ]
  },
  {
   "attachments": {},
   "cell_type": "markdown",
   "metadata": {},
   "source": [
    "Plot the time series"
   ]
  },
  {
   "cell_type": "code",
   "execution_count": 151,
   "metadata": {},
   "outputs": [],
   "source": [
    "def initial_plots(df, item):\n",
    "    fig, (a1,a2) = plt.subplots(1,2, figsize=(15, 5))\n",
    "    a1.plot(df.date, df['quantity'])\n",
    "    a1.set_title(f'Original Serie - {item}')\n",
    "    a2.plot(df.date, df['log'], color='r')\n",
    "    a2.set_title(f'Log Transformation - {item}')\n",
    "    fig.tight_layout()\n",
    "    os.makedirs(f'../scale_outputs/{item}/images/', exist_ok=True)\n",
    "    fig.savefig(f'../scale_outputs/{item}/images/ts_plot.png')\n",
    "    plt.show()\n",
    "    return fig"
   ]
  },
  {
   "attachments": {},
   "cell_type": "markdown",
   "metadata": {},
   "source": [
    "Train-test split"
   ]
  },
  {
   "cell_type": "code",
   "execution_count": 150,
   "metadata": {},
   "outputs": [],
   "source": [
    "def split(df, ndays):\n",
    "  weeks_train = round((max(df['date']) - min(df['date'])).days / 7 * 0.7)\n",
    "  split_date = max(df['date']) - timedelta(weeks=weeks_train)\n",
    "  #split_date = max(df.fecha) - timedelta(days=ndays)\n",
    "  train = df[df['fecha']< split_date] \n",
    "  test = df[df['fecha'] >= split_date]\n",
    "  return split_date, train, test"
   ]
  },
  {
   "cell_type": "code",
   "execution_count": 143,
   "metadata": {},
   "outputs": [],
   "source": [
    "sales, id_list = preprocessing(sales)"
   ]
  },
  {
   "attachments": {},
   "cell_type": "markdown",
   "metadata": {},
   "source": [
    "Multiple time series loop"
   ]
  },
  {
   "cell_type": "code",
   "execution_count": null,
   "metadata": {},
   "outputs": [],
   "source": [
    "for item in id_list:\n",
    "    one_product = sales[sales['id']==item]\n",
    "    one_product = one_product.drop_duplicates()\n",
    "    ts_plot = initial_plots(one_product, item)\n",
    "    split_date, train, test = split(df)\n",
    "    "
   ]
  },
  {
   "attachments": {},
   "cell_type": "markdown",
   "metadata": {},
   "source": []
  },
  {
   "cell_type": "code",
   "execution_count": null,
   "metadata": {},
   "outputs": [],
   "source": [
    "id_ex = '17410306'\n",
    "m = sales[sales['id']== id_ex]\n",
    "\n"
   ]
  },
  {
   "cell_type": "code",
   "execution_count": null,
   "metadata": {},
   "outputs": [],
   "source": [
    "\n"
   ]
  },
  {
   "cell_type": "code",
   "execution_count": null,
   "metadata": {},
   "outputs": [],
   "source": []
  }
 ],
 "metadata": {
  "kernelspec": {
   "display_name": "Python 3",
   "language": "python",
   "name": "python3"
  },
  "language_info": {
   "codemirror_mode": {
    "name": "ipython",
    "version": 3
   },
   "file_extension": ".py",
   "mimetype": "text/x-python",
   "name": "python",
   "nbconvert_exporter": "python",
   "pygments_lexer": "ipython3",
   "version": "3.10.7"
  },
  "orig_nbformat": 4
 },
 "nbformat": 4,
 "nbformat_minor": 2
}
